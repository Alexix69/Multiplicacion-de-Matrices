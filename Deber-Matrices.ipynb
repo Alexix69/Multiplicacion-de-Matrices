{
 "cells": [
  {
   "cell_type": "code",
   "execution_count": null,
   "id": "86f5d74e",
   "metadata": {},
   "outputs": [
    {
     "name": "stdout",
     "output_type": "stream",
     "text": [
      "### MATRIZ A ###\n"
     ]
    }
   ],
   "source": [
    "def imprimir(rows, matriz):\n",
    "    for i in range(rows):\n",
    "        print(matriz[i])\n",
    "\n",
    "print(\"### MATRIZ A ###\")\n",
    "rowsA = int (input(\"Numero de filas: \"))\n",
    "colsA = int (input(\"Numero de columnas: \"))\n",
    "matrizA = []\n",
    "\n",
    "for i in range(rowsA):\n",
    "    matrizA.append([0] * colsA)\n",
    "\n",
    "for i in range(rowsA):\n",
    "    for j in range(colsA):\n",
    "        matrizA[i][j] = int (input(\"Elemento (\" + str(i) + \",\" + str(j) + \"):\")) \n",
    "        \n",
    "imprimir(rowsA, matrizA)    \n",
    "        \n",
    "print(\"### MATRIZ B ###\")\n",
    "rowsB = int (input(\"Numero de filas: \"))\n",
    "colsB = int (input(\"Numero de columnas: \"))\n",
    "\n",
    "\n",
    "\n",
    "matrizB = []\n",
    "\n",
    "for i in range(rowsB):\n",
    "    matrizB.append([0] * colsB)\n",
    "\n",
    "for i in range(rowsB):\n",
    "    for j in range(colsB):\n",
    "        matrizB[i][j] = int (input(\"Elemento (\" + str(i) + \",\" + str(j) + \"):\"))\n",
    "    \n",
    "imprimir(rowsB, matrizB)\n",
    "\n",
    "matrizC = []\n",
    "for i in range(rowsA):\n",
    "    matrizC.append([0] * colsB)\n",
    "    \n",
    "for i in range(rowsA):\n",
    "    for j in range(colsB):\n",
    "        for k in range(colsA):\n",
    "            matrizC[i][j] += matrizA[i][k] * matrizB[k][j]\n",
    "            \n",
    "for i in range(rowsA):\n",
    "    matrizR = []\n",
    "    for j in range(colsB):\n",
    "        matrizR.append(matrizC[i][j])\n",
    "        print(matrizR)\n"
   ]
  },
  {
   "cell_type": "code",
   "execution_count": null,
   "id": "9c51c22a",
   "metadata": {},
   "outputs": [],
   "source": []
  }
 ],
 "metadata": {
  "kernelspec": {
   "display_name": "Python 3",
   "language": "python",
   "name": "python3"
  },
  "language_info": {
   "codemirror_mode": {
    "name": "ipython",
    "version": 3
   },
   "file_extension": ".py",
   "mimetype": "text/x-python",
   "name": "python",
   "nbconvert_exporter": "python",
   "pygments_lexer": "ipython3",
   "version": "3.9.5"
  }
 },
 "nbformat": 4,
 "nbformat_minor": 5
}
